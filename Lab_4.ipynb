{
  "nbformat": 4,
  "nbformat_minor": 0,
  "metadata": {
    "colab": {
      "provenance": [],
      "include_colab_link": true
    },
    "kernelspec": {
      "name": "python3",
      "display_name": "Python 3"
    },
    "language_info": {
      "name": "python"
    }
  },
  "cells": [
    {
      "cell_type": "markdown",
      "metadata": {
        "id": "view-in-github",
        "colab_type": "text"
      },
      "source": [
        "<a href=\"https://colab.research.google.com/github/Phatcharapon094/Py_Lab4/blob/main/Lab_4.ipynb\" target=\"_parent\"><img src=\"https://colab.research.google.com/assets/colab-badge.svg\" alt=\"Open In Colab\"/></a>"
      ]
    },
    {
      "cell_type": "markdown",
      "source": [
        "4.1 2520 คือ ตัวเลขที่น้อยที่สุด ที่สามารถหารด้วยตัวเลขทุกตัวตั้งแต่ 1-10 จงหาจำนวนเต็มบวกที่น้อยที่สุดที่หารด้วยตัวเลขทุกตัวตั้งแต่ 1-20\n",
        "\n",
        "15 = 360360\n",
        "\n",
        "20 = 232792560\n",
        "\n",
        "ปล. ห้าม import math"
      ],
      "metadata": {
        "id": "-bpz7hteQPdz"
      }
    },
    {
      "cell_type": "code",
      "execution_count": null,
      "metadata": {
        "id": "HSZUXcF2QMVn",
        "colab": {
          "base_uri": "https://localhost:8080/"
        },
        "outputId": "cffbf8f2-8f06-4671-b6be-55a3a8f5e170"
      },
      "outputs": [
        {
          "output_type": "stream",
          "name": "stdout",
          "text": [
            "232792560\n"
          ]
        }
      ],
      "source": [
        "IN = 20\n",
        "i = 1\n",
        "x = 1\n",
        "while True:\n",
        "  if x < IN:\n",
        "    if(i%x == 0):\n",
        "      x = x + 1\n",
        "    else:\n",
        "      x = 1\n",
        "      i= i + 1\n",
        "  else:\n",
        "    break\n",
        "print(i)\n",
        "\n"
      ]
    },
    {
      "cell_type": "markdown",
      "source": [
        "4.2 จำนวนเฉพาะ (Prime Number) คือตัวเลขที่มีแต่ 1 กับตัวมันเองที่หารลงตัว โดยจำนวนเฉพาะ 6 ตัวแรกคือ 2, 3, 5, 7, 11, 13 โดยจำนวนเฉพาะตัวที่ 6 คือ 13 จงหาจำนวนเฉพาะตัวที่ 101\n",
        "\n",
        "=> 547"
      ],
      "metadata": {
        "id": "Wq1EFYHUWNOA"
      }
    },
    {
      "cell_type": "code",
      "source": [
        "IN = 101\n",
        "i = 2\n",
        "lst=[2]\n",
        "while True:\n",
        "    prime = True\n",
        "    for j in lst:\n",
        "        if i % j == 0:\n",
        "            prime = False\n",
        "            break\n",
        "    if prime == True:\n",
        "        lst.append(i)\n",
        "    i+=1\n",
        "    if len(lst) == IN:\n",
        "        break\n",
        "print(lst[-1])"
      ],
      "metadata": {
        "colab": {
          "base_uri": "https://localhost:8080/"
        },
        "id": "cpMa6Vp0Vz_L",
        "outputId": "3e1c4d75-a2ad-44b2-b25b-9c3847f1ce03"
      },
      "execution_count": null,
      "outputs": [
        {
          "output_type": "stream",
          "name": "stdout",
          "text": [
            "547\n"
          ]
        }
      ]
    },
    {
      "cell_type": "markdown",
      "source": [
        "1.\tกำหนดให้มี List หนึ่งประกอบด้วยตัวเลขจำนวนหนึ่ง และ ให้รับตัวเลขจำนวน 1 จำนวน จากนั้นให้หาว่าใน List มีตัวเลข 2 จำนวนใดที่บวกกันเท่ากับตัวเลขที่รับมา ให้แสดงคำตอบเป็น List เช่น Output: [0,1] โดยอาจมีมากกว่า 1 คำตอบ\n",
        "\n",
        "ตัวอย่าง list : [2, 7, 11, 15]\n",
        "\n",
        "Input : 9\n",
        "\n",
        "Output : 2 + 7 = 9 (ถ้าไม่มีให้บอก None)\n"
      ],
      "metadata": {
        "id": "-pUpw-m_WqFG"
      }
    },
    {
      "cell_type": "code",
      "source": [
        "lst = [2, 7, 11, 15]\n",
        "filst = []\n",
        "IN = 9\n",
        "i = 0\n",
        "for i in range(len(lst)):\n",
        "    for j in range(i+1,len(lst)):\n",
        "        if lst[i] + lst[j] == IN:\n",
        "            print(lst[i],lst[j])\n",
        "            filst.append(lst[i])\n",
        "            filst.append(lst[j])\n",
        "if filst ==[]:\n",
        "    print(\"none\")\n",
        "else:\n",
        "    print(filst)"
      ],
      "metadata": {
        "id": "s3djwBi4ks1g",
        "colab": {
          "base_uri": "https://localhost:8080/"
        },
        "outputId": "26060745-3377-4789-c9bc-2db5e535bf1e"
      },
      "execution_count": null,
      "outputs": [
        {
          "output_type": "stream",
          "name": "stdout",
          "text": [
            "2 7\n",
            "[2, 7]\n"
          ]
        }
      ]
    },
    {
      "cell_type": "markdown",
      "source": [
        "2.\tให้เขียนโปรแกรมรับข้อมูล 1 บรรทัด ประกอบด้วยตัวเลข 1 หลัก จำนวนไม่เกิน 10 ตัว คั่นด้วยช่องว่าง จากนั้นให้นำตัวเลขที่รับเข้ามาเรียงกัน และหาลำดับการเรียงที่ทำให้มีค่าน้อยที่สุด โดยต้องไม่ขึ้นต้นด้วย 0\n",
        "\n",
        "Input : 9 4 6 2  \n",
        "\n",
        "คำตอบ 2469\n",
        "\n",
        "Input : 3 0 8 1 3 3\n",
        "\n",
        "คำตอบ : 103338\n"
      ],
      "metadata": {
        "id": "_3yLG291lSFy"
      }
    },
    {
      "cell_type": "code",
      "source": [
        "x = input(\"Enter your inputs: \").split()\n",
        "print(f\"\\nInputs: {x}\")\n",
        "INPUTtoint = []\n",
        "z = 0\n",
        "sortedd=[]\n",
        "stroutput=\"\"\n",
        "least1 = 100000\n",
        "for i in x:\n",
        "    INPUTtoint.append(int(i))\n",
        "while INPUTtoint!=[]:\n",
        "    while z < len(INPUTtoint):\n",
        "        if INPUTtoint[z] < least1:\n",
        "            least1 = INPUTtoint[z]\n",
        "        z+=1\n",
        "    else:\n",
        "        sortedd.append(least1)\n",
        "        INPUTtoint.remove(least1)\n",
        "        least1 = 100000\n",
        "        z = 0\n",
        "i = 0\n",
        "while sortedd[0] == 0:\n",
        "  if sortedd[0] == 0:\n",
        "      sortedd[0],sortedd[i+1] = sortedd[i+1],sortedd[0]\n",
        "  i+=1\n",
        "for i in range(len(sortedd)):\n",
        "    stroutput+=str(sortedd[i])\n",
        "print(stroutput)"
      ],
      "metadata": {
        "id": "ACtXvMEyli0L",
        "colab": {
          "base_uri": "https://localhost:8080/"
        },
        "outputId": "672cc791-980d-4d21-af5d-fca53859d616"
      },
      "execution_count": null,
      "outputs": [
        {
          "output_type": "stream",
          "name": "stdout",
          "text": [
            "Enter your inputs: 3 0 8 1 3 3 0\n",
            "\n",
            "Inputs: ['3', '0', '8', '1', '3', '3', '0']\n",
            "1003338\n"
          ]
        }
      ]
    },
    {
      "cell_type": "markdown",
      "source": [
        "3.\tจากตัวเลขต่อไปนี้ ตัวเลขติดกัน 4 ตัวที่เมื่อนำมาคูณกันแล้วมีค่ามากที่สุดคือ 9 × 9 × 8 × 9 = 5832\n",
        "\n",
        "73167176531330624919225119674426574742355349194934\n",
        "96983520312774506326239578318016984801869478851843\n",
        "85861560789112949495459501737958331952853208805511\n",
        "12540698747158523863050715693290963295227443043557\n",
        "66896648950445244523161731856403098711121722383113\n",
        "62229893423380308135336276614282806444486645238749\n",
        "30358907296290491560440772390713810515859307960866\n",
        "70172427121883998797908792274921901699720888093776\n",
        "65727333001053367881220235421809751254540594752243\n",
        "52584907711670556013604839586446706324415722155397\n",
        "53697817977846174064955149290862569321978468622482\n",
        "83972241375657056057490261407972968652414535100474\n",
        "82166370484403199890008895243450658541227588666881\n",
        "16427171479924442928230863465674813919123162824586\n",
        "17866458359124566529476545682848912883142607690042\n",
        "24219022671055626321111109370544217506941658960408\n",
        "07198403850962455444362981230987879927244284909188\n",
        "84580156166097919133875499200524063689912560717606\n",
        "05886116467109405077541002256983155200055935729725\n",
        "71636269561882670428252483600823257530420752963450\n",
        "\n",
        "จงหาเลขติดกัน 8 ตัวที่เมื่อนำมาคูณกันแล้วมีค่ามากที่สุด และเป็นเลขอะไร ผลคูณเท่ากับเท่าไร\n",
        "\n",
        "The maximum product is: 7838208\n",
        "The digits are: 88399879\n",
        "\n",
        "\n",
        "\n"
      ],
      "metadata": {
        "id": "Gv8aIY7dliSY"
      }
    },
    {
      "cell_type": "code",
      "source": [
        "IN = \"7316717653133062491922511967442657474235534919493496983520312774506326239578318016984801869478851843858615607891129494954595017379583319528532088055111254069874715852386305071569329096329522744304355766896648950445244523161731856403098711121722383113622298934233803081353362766142828064444866452387493035890729629049156044077239071381051585930796086670172427121883998797908792274921901699720888093776657273330010533678812202354218097512545405947522435258490771167055601360483958644670632441572215539753697817977846174064955149290862569321978468622482839722413756570560574902614079729686524145351004748216637048440319989000889524345065854122758866688116427171479924442928230863465674813919123162824586178664583591245665294765456828489128831426076900422421902267105562632111110937054421750694165896040807198403850962455444362981230987879927244284909188845801561660979191338754992005240636899125607176060588611646710940507754100225698315520005593572972571636269561882670428252483600823257530420752963450\"\n",
        "temp = 0\n",
        "most = 0\n",
        "digit_most=\"\"\n",
        "for i in range(len(IN)):\n",
        "    if i  <= len(IN)-8:\n",
        "        temp = int(IN[i])*int(IN[i+1])*int(IN[i+2])*int(IN[i+3])*int(IN[i+4])*int(IN[i+5])*int(IN[i+6])*int(IN[i+7])\n",
        "    if temp > most:\n",
        "        most = temp\n",
        "        digit_most = IN[i]+IN[i+1]+IN[i+2]+IN[i+3]+IN[i+4]+IN[i+5]+IN[i+6]+IN[i+7]\n",
        "print(\"The maximum product is:\",most,end=\"\")\n",
        "print(\" The digits are:\",digit_most)\n",
        "\n"
      ],
      "metadata": {
        "id": "wvVqGMknmBu5",
        "colab": {
          "base_uri": "https://localhost:8080/"
        },
        "outputId": "c88915ce-0c48-40b4-c751-530a4e0bacc9"
      },
      "execution_count": null,
      "outputs": [
        {
          "output_type": "stream",
          "name": "stdout",
          "text": [
            "The maximum product is: 7838208 The digits are: 88399879\n"
          ]
        }
      ]
    },
    {
      "cell_type": "markdown",
      "source": [
        "4.\tตัวเลข palindrome คือตัวเลขที่อ่านได้ทั้ง 2 ทาง แล้วมีค่าเท่ากัน เช่น 9009 โดย 9009 คือ palindrome ที่เกิดจากการคูณของตัวเลข 2 หลักที่มากที่สุด คือ 91x99 จงหา palindrome ที่มากที่สุดของตัวเลข 3 หลัก\n",
        "\n",
        "The largest palindrome product of 3-digit numbers is: 906609\n"
      ],
      "metadata": {
        "id": "fjy5LNC7m0We"
      }
    },
    {
      "cell_type": "code",
      "source": [
        "most = 0\n",
        "for i in range(100,999):\n",
        "    for j in range(100,999):\n",
        "        palintest = str(i*j)\n",
        "        if palintest[0] == palintest[-1] and palintest[1] == palintest[-2] and palintest[2] == palintest[-3]:\n",
        "            if i*j > most:\n",
        "                most = i*j\n",
        "\n",
        "print(most)"
      ],
      "metadata": {
        "id": "y-QY3hzVmsud",
        "outputId": "296af223-38de-4830-f611-4386e2d08898",
        "colab": {
          "base_uri": "https://localhost:8080/"
        }
      },
      "execution_count": 1,
      "outputs": [
        {
          "output_type": "stream",
          "name": "stdout",
          "text": [
            "906609\n"
          ]
        }
      ]
    },
    {
      "cell_type": "markdown",
      "source": [
        "5.\tกำหนดให้ string มีเพียงสัญลักษณ์ '(', ')', '{', '}', '[' และ ']' ให้ตรวจสอบว่า String ถูกต้อง โดย เมื่อมีวงเล็บเปิด จะต้องมีวงเล็บปิดที่เป็นชนิดเดียวกัน จำนวนเท่ากันที่เป็นคู่ของมัน\n",
        "\n",
        "```\n",
        "Input: s = \"()\"\n",
        "Output: true\n",
        "Input: s = \"()[]{}\"\n",
        "Output: true\n",
        "Input: s = \"[()]{}\"\n",
        "Output: true\n",
        "Input: s = \"(]\"\n",
        "Output: false\n",
        "```\n",
        "\n",
        "\n"
      ],
      "metadata": {
        "id": "rUZvLJ-JnGJY"
      }
    },
    {
      "cell_type": "code",
      "source": [],
      "metadata": {
        "id": "Ku8ts4x7nk1y"
      },
      "execution_count": null,
      "outputs": []
    },
    {
      "cell_type": "markdown",
      "source": [
        "6.\tกำหนดให้รับข้อมูล Integer (เป็นบวกหรือลบก็ได้) จากนั้นให้แสดงผลลัพธ์ที่ reverse ตัวเลขตามตัวอย่าง\n",
        "\n",
        "```\n",
        "Input: x = 123\n",
        "Output: 321\n",
        "Input: x = -123\n",
        "Output: -321\n",
        "Input: x = 120\n",
        "Output: 21\n",
        "```\n",
        "\n"
      ],
      "metadata": {
        "id": "PLL9Wdqqnx7o"
      }
    },
    {
      "cell_type": "code",
      "source": [
        "IN = 120\n",
        "str_in =\"\"\n",
        "rev = \"\"\n",
        "i = 0\n",
        "str_in = str(IN)\n",
        "if str_in.isdigit()==True or str_in[0] == \"-\":\n",
        "  IN = int(IN)\n",
        "  if IN < 0:\n",
        "    print(IN)\n",
        "    str_in = str(IN)\n",
        "    for i in range(1,len(str_in)):\n",
        "      rev = rev+str_in[-i]\n",
        "    print(\"-\"+rev)\n",
        "  if IN >=0:\n",
        "    str_in = str(IN)\n",
        "    for i in range(1,len(str_in)+1):\n",
        "      rev = rev+str_in[-i]\n",
        "    print(int(rev))\n",
        "else:\n",
        "  print(\"error\")"
      ],
      "metadata": {
        "id": "XF2Wlhy5nrNg",
        "outputId": "1f8c0536-958e-461e-de79-3502374c81a5",
        "colab": {
          "base_uri": "https://localhost:8080/"
        }
      },
      "execution_count": null,
      "outputs": [
        {
          "output_type": "stream",
          "name": "stdout",
          "text": [
            "21\n"
          ]
        }
      ]
    },
    {
      "cell_type": "markdown",
      "source": [
        "7.\tเขียนโปรแกรมเพื่อแสดงปิรามิดบนจอภาพ โดยแสดงเป็นรูปสี่เหลี่ยม ตัวเลขเริ่มจาก 0  และเพิ่มค่าตามลําดับจํานวนขั้น จาก 0 ถึง N (รับค่า N จากคีย์บอร์ด) ค่าของ N อยู่ระหว่าง 0-9 ดังตัวอย่าง\n",
        "\n",
        "\n",
        "```\n",
        "\t\t\t\t\t\t\t\t\t         0000000\n",
        "\t\t\t\t\t\t\t    00000\t\t0111110\n",
        "\t\t\t\t\t000\t\t 01110\t\t0122210\n",
        "\t\t\t0\t\t010\t\t01210\t\t0123210\n",
        "\t\t\t\t\t000\t\t 01110\t\t0122210\n",
        "\t\t\t\t\t\t\t    00000\t\t0111110\n",
        "\t\t\t\t\t\t\t\t\t         0000000\n",
        "\n",
        "\t\t\tn=0\t\tn=1\t\tn=2\t\tn=3\n",
        "\n",
        "```\n",
        "\n"
      ],
      "metadata": {
        "id": "KboD6c8rn52a"
      }
    },
    {
      "cell_type": "code",
      "source": [],
      "metadata": {
        "id": "sGhw6Iyfobiz"
      },
      "execution_count": null,
      "outputs": []
    },
    {
      "cell_type": "markdown",
      "source": [
        "8.\tเขียนโปรแกรมเพื่อแสดงปิรามิดบนจอภาพ โดยแสดงเป็นรูปสี่เหลี่ยม ตัวเลขเริ่มจาก 0  และเพิ่มค่าตามลําดับจํานวนขั้น จาก 0 ถึง N (รับค่า N จากคีย์บอร์ด) กําหนดให้จุดศูนย์กลางของรูปสี่เหลี่ยมอยู่ที่แถว 13 คอลัมน์ 40 ของจอภาพค่าของ N อยู่ระหว่าง 0-9 ดังตัวอย่าง\n",
        "\n",
        "\n",
        "\n",
        "```\n",
        "\t\t\t\t\t\t\t\t\t            0\n",
        "\t\t\t\t\t\t\t      0\t\t    010\n",
        "\t\t\t\t\t  0\t\t  010\t\t  01210\n",
        "\t\t\t0\t\t010\t\t01210\t\t0123210\n",
        "\t\t\t\t\t  0\t\t  010\t\t  01210\n",
        "\t\t\t\t\t\t\t      0\t\t    010\n",
        "\t\t\t\t\t\t\t\t\t            0\n",
        "\n",
        "\t\t\tn=0\t\tn=1\t\tn=2\t\tn=3\n",
        "\n",
        "```\n",
        "\n"
      ],
      "metadata": {
        "id": "ecRYU6Lkob6Q"
      }
    },
    {
      "cell_type": "code",
      "source": [
        "c=1\n",
        "n=3+c\n",
        "x = 0\n",
        "for i in range(n-1):\n",
        "  for j in range(n-i-1):\n",
        "        print(\" \",end=\"\")\n",
        "  for j in range(i+1):\n",
        "        print(j,end=\"\")\n",
        "  for j in range(i-1,-1,-1):\n",
        "         print(j,end=\"\")\n",
        "  print(' ')\n",
        "for i in range(n):\n",
        "  for j in range(i):\n",
        "        print(\" \",end=\"\")\n",
        "  for j in range(n-i-1):\n",
        "        print(j,end=\"\")\n",
        "  for j in range(n-i-1,-1,-1):\n",
        "         print(j,end=\"\")\n",
        "  print(' ')\n",
        "\n",
        "# for i in range(0,n+n):\n",
        "#   for j in range(0,n+n):\n",
        "#       if n-i >j or i-j > n or j-i > n or j+i > 3*n :\n",
        "#         print(\" \",end=\"\")\n",
        "#       else:\n",
        "#         print(\"0\",end=\"\")\n",
        "#   print(' ')\n",
        "\n",
        "\n",
        "# for i in range(0,n+n+1):\n",
        "#   for j in range(0,n+n+1):\n",
        "#     if n-i >j or i-j > n or j-i > n or j+i > 3*n:\n",
        "#       print(\" \",end=\"\")\n",
        "#     else:\n",
        "#       if  j+i == n+n and j-i == n-n:\n",
        "#         print(str(n),end=\"\")\n",
        "#       elif i+j == n+1 or i+j == n+3 or i + j == n + 5:\n",
        "#          print(str(n-n+1),end=\"\")\n",
        "#       elif (i+j  == 5 or i+j == 7) and j-i != 3 and j-i !=5 and j-i != -3:\n",
        "#          print (str(n-n+2),end=\"\")\n",
        "#       else:\n",
        "\n",
        "#         print(str(n-n),end=\"\")\n",
        "\n",
        "\n",
        "\n",
        "\n",
        "\n",
        "\n"
      ],
      "metadata": {
        "id": "a1oT3pAJt15y",
        "outputId": "f86c817f-2c2d-4473-bc65-6204bd9ab4f9",
        "colab": {
          "base_uri": "https://localhost:8080/"
        }
      },
      "execution_count": null,
      "outputs": [
        {
          "output_type": "stream",
          "name": "stdout",
          "text": [
            "   0 \n",
            "  010 \n",
            " 01210 \n",
            "0123210 \n",
            " 01210 \n",
            "  010 \n",
            "   0 \n"
          ]
        }
      ]
    },
    {
      "cell_type": "markdown",
      "source": [
        "9.\tให้เขียนโปรแกรมสร้างรูปสามเหลี่ยมที่วางซ้อนกัน 3 รูป โดยแต่ละรูปสร้างมาจากเครื่องหมาย \"*\" โดยกําหนดให้รับตัวเลขระดับของสามเหลี่ยมจากคีย์บอร์ด จากตัวอย่างข้างล่างนี้เป็นรูปสามเหลี่ยมระดับที่ 3 และ 4\n",
        "\n",
        "\n",
        "\n",
        "```\n",
        "              *\n",
        "\t\t     ***\n",
        "\t\t    *****\n",
        "\t\t   *     *\n",
        "\t      ***   ***\n",
        "\t     ***** *****\n",
        "\n",
        "  \t\t    *\n",
        "\t  \t   ***\n",
        "\t\t    *****\n",
        "\t\t   *******\n",
        "\t      *       *\n",
        "\t     ***     ***\n",
        "\t    *****   *****\n",
        "\t   ******* *******\n",
        "\n",
        "```\n",
        "\n"
      ],
      "metadata": {
        "id": "Po50A-Kuo5t4"
      }
    }
  ]
}